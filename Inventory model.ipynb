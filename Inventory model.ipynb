{
 "cells": [
  {
   "cell_type": "code",
   "execution_count": 23,
   "metadata": {},
   "outputs": [],
   "source": [
    "import numpy as np\n",
    "import pandas as pd\n",
    "import math\n",
    "import xlrd"
   ]
  },
  {
   "cell_type": "code",
   "execution_count": 24,
   "metadata": {},
   "outputs": [],
   "source": [
    "scrap_rate = 1.2"
   ]
  },
  {
   "cell_type": "code",
   "execution_count": 47,
   "metadata": {},
   "outputs": [],
   "source": [
    "demand_to_raw_material = pd.ExcelFile(\"excels/Output Points and Raw Materials Needed Sample Product.xlsx\")\n",
    "demand_to_raw_material = demand_to_raw_material.parse(demand_to_raw_material.sheet_names[0])\n",
    "\n",
    "demand = pd.ExcelFile(\"excels/demand.xlsx\")\n",
    "demand = demand.parse(demand.sheet_names[0])\n",
    "# sort demand by deadline time\n",
    "index = pd.to_datetime(demand[\"deadline\"], format=\"%Y%m%d:%H:%M:%S.%f\").sort_values().index\n",
    "demand = demand.iloc[index, :]\n",
    "\n",
    "inventory = pd.ExcelFile(\"excels/inventory.xlsx\")\n",
    "inventory = inventory.parse(inventory.sheet_names[0])\n",
    "inventory = {inventory.iloc[index, 0]: inventory.iloc[index, 1] for index in range(inventory.shape[0])}"
   ]
  },
  {
   "cell_type": "code",
   "execution_count": 48,
   "metadata": {},
   "outputs": [],
   "source": [
    "def output_date(date_list, ending, starting):\n",
    "    day_num = int(starting/(starting-ending)*len(date_list))\n",
    "    return date_list[day_num]"
   ]
  },
  {
   "cell_type": "code",
   "execution_count": 49,
   "metadata": {},
   "outputs": [],
   "source": [
    "finished_good = []\n",
    "semi_finished_good = []\n",
    "semi_finished_to_raw_material = {}\n",
    "\n",
    "temp = 0\n",
    "raw_material = []\n",
    "for index, class_num in enumerate(demand_to_raw_material.iloc[1:, 1]):\n",
    "    if float(class_num) == 1:\n",
    "        finished_good.append(demand_to_raw_material.iloc[index+1, 0])\n",
    "    if float(class_num) == 2:\n",
    "        semi_finished_good.append(temp)\n",
    "        semi_finished_to_raw_material[temp] = raw_material\n",
    "        temp = demand_to_raw_material.iloc[index+1, 0]\n",
    "        raw_material = []\n",
    "    if float(class_num) == 3:\n",
    "        raw_material.append(demand_to_raw_material.iloc[index+1, 0])\n",
    "semi_finished_good.append(temp)\n",
    "semi_finished_to_raw_material[temp] = raw_material\n",
    "del semi_finished_to_raw_material[0]"
   ]
  },
  {
   "cell_type": "code",
   "execution_count": 50,
   "metadata": {},
   "outputs": [],
   "source": [
    "time_temp = pd.Timestamp.today().date()\n",
    "raw_materials = list(inventory.keys())\n",
    "shortage = {}\n",
    "for index in range(demand.shape[0]):\n",
    "    deadline = demand['deadline'][index]\n",
    "    date_list = list(pd.date_range(start=time_temp, end=deadline.date()))\n",
    "    quantity = demand['quantity'][index]\n",
    "    if demand['product_type'][index] in finished_good[1:]:\n",
    "        for raw_material in semi_finished_good:\n",
    "            if raw_material in shortage:\n",
    "                pass\n",
    "            else:\n",
    "                initial = inventory[raw_material]\n",
    "                inventory[raw_material] -= quantity * scrap_rate\n",
    "                if inventory[raw_material] < 0: date = output_date(date_list, inventory[raw_material], initial)\n",
    "                shortage[raw_material] = date\n",
    "    else:\n",
    "        raw_materials = semi_finished_to_raw_material[demand['product_type'][index]]\n",
    "        for raw_material in raw_materials:\n",
    "            if raw_material in shortage:\n",
    "                pass\n",
    "            else:\n",
    "                initial = inventory[raw_material]\n",
    "                inventory[raw_material] -= quantity * scrap_rate\n",
    "                if inventory[raw_material] < 0: date = output_date(date_list, inventory[raw_material], initial)\n",
    "                shortage[raw_material] = date"
   ]
  },
  {
   "cell_type": "code",
   "execution_count": 51,
   "metadata": {},
   "outputs": [
    {
     "data": {
      "text/plain": [
       "{'J0 Submount': Timestamp('2019-06-03 00:00:00', freq='D'),\n",
       " 'Preform': Timestamp('2019-06-03 00:00:00', freq='D'),\n",
       " 'Thermistor(TM5)': Timestamp('2019-06-03 00:00:00', freq='D')}"
      ]
     },
     "execution_count": 51,
     "metadata": {},
     "output_type": "execute_result"
    }
   ],
   "source": [
    "shortage"
   ]
  }
 ],
 "metadata": {
  "kernelspec": {
   "display_name": "Python 3",
   "language": "python",
   "name": "python3"
  },
  "language_info": {
   "codemirror_mode": {
    "name": "ipython",
    "version": 3
   },
   "file_extension": ".py",
   "mimetype": "text/x-python",
   "name": "python",
   "nbconvert_exporter": "python",
   "pygments_lexer": "ipython3",
   "version": "3.5.2"
  }
 },
 "nbformat": 4,
 "nbformat_minor": 2
}
